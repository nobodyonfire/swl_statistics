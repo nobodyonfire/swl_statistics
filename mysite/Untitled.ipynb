{
 "cells": [
  {
   "cell_type": "markdown",
   "id": "76ddcbdd",
   "metadata": {},
   "source": [
    "# Imports"
   ]
  },
  {
   "cell_type": "code",
   "execution_count": 1,
   "id": "450310cd",
   "metadata": {},
   "outputs": [],
   "source": [
    "import random as rd\n",
    "import statistics\n",
    "import numpy as np\n",
    "\n",
    "\n",
    "\n"
   ]
  },
  {
   "cell_type": "markdown",
   "id": "0ce61987",
   "metadata": {},
   "source": [
    "---"
   ]
  },
  {
   "cell_type": "markdown",
   "id": "8b5c2d2a",
   "metadata": {},
   "source": [
    "# Random Dice"
   ]
  },
  {
   "cell_type": "code",
   "execution_count": 2,
   "id": "42bda151",
   "metadata": {},
   "outputs": [],
   "source": [
    "#Proba Attack Dice\n",
    "AttName = ['crit' , 'touche' , 'adre' , 'miss']\n",
    "AttWhite = [1,1,1,5]\n",
    "AttBlack = [1,3,1,3]\n",
    "AttRed = [1,5,1,1]\n",
    "#Proba Defence Dice\n",
    "AttName = ['def' , 'adre' , 'miss']\n",
    "DefWhite = [1,1,4]\n",
    "DefRed = [3,1,2]"
   ]
  },
  {
   "cell_type": "code",
   "execution_count": 3,
   "id": "b3610e85",
   "metadata": {},
   "outputs": [],
   "source": [
    "#Precalculation for easier code \n",
    "probaAttWhiteAdre = 3\n",
    "probaAttWhiteNoAdre = 2\n",
    "probaAttBlackAdre = 5\n",
    "probaAttBlackNoAdre = 4\n",
    "probaAttRedAdre = 7\n",
    "probaAttRedNoAdre = 6"
   ]
  },
  {
   "cell_type": "markdown",
   "id": "d3d4d9df",
   "metadata": {},
   "source": [
    "---"
   ]
  },
  {
   "cell_type": "markdown",
   "id": "8c6613c8",
   "metadata": {},
   "source": [
    "# Main Definitions "
   ]
  },
  {
   "cell_type": "code",
   "execution_count": 19,
   "id": "280d85bb",
   "metadata": {},
   "outputs": [],
   "source": [
    "def oneThrow(tmp,ProbaAdre,ProbaNoAdre,critique,Adre=False):\n",
    "    tmp=0\n",
    "    random = rd.randint(1,8)\n",
    "    if Adre : \n",
    "        if random <= ProbaAdre:\n",
    "            tmp += 1\n",
    "    elif critique > 0:\n",
    "        if random <= ProbaAdre:\n",
    "            #if it's a surge\n",
    "            if (random==1):\n",
    "                critique -=1\n",
    "            tmp += 1\n",
    "    else:      \n",
    "        if random <= ProbaNoAdre:\n",
    "            tmp += 1\n",
    "    return tmp,critique\n",
    "\n",
    "\n",
    "    \n",
    "def throwDice(numberAttWhiteDice,numberAttBlackDice,numberAttRedDice,Adre=False,numberThrow=50000,attOrDef ='att',critiqueNumber=0):\n",
    "    \n",
    "    listEsperance =[]\n",
    "    \n",
    "    if (attOrDef =='att'):\n",
    "        \n",
    "        #NUMBER OF THROW:\n",
    "        for throw in range (numberThrow):\n",
    "            \n",
    "            critique = critiqueNumber\n",
    "            esperance=0\n",
    "    \n",
    "            for i in range(numberAttWhiteDice):\n",
    "                result, critique = oneThrow(esperance,probaAttWhiteAdre,probaAttWhiteNoAdre,critique,Adre)\n",
    "                esperance += result\n",
    "                \n",
    "            for i in range(numberAttBlackDice):\n",
    "                result, critique = oneThrow(esperance,probaAttBlackAdre,probaAttBlackNoAdre,critique,Adre)\n",
    "                esperance += result\n",
    "                \n",
    "\n",
    "                \n",
    "            for i in range(numberAttRedDice):\n",
    "                result, critique = oneThrow(esperance,probaAttRedAdre,probaAttRedNoAdre,critique,Adre)\n",
    "                esperance += result\n",
    "                \n",
    "\n",
    "            listEsperance.append(esperance)\n",
    "            \n",
    "    \n",
    "        listEsperance = 1000*np.array(listEsperance)\n",
    "        return statistics.mean(listEsperance)/1000\n",
    "    \n"
   ]
  },
  {
   "cell_type": "markdown",
   "id": "24812c6a",
   "metadata": {},
   "source": [
    "---"
   ]
  },
  {
   "cell_type": "markdown",
   "id": "ba6ea431",
   "metadata": {},
   "source": [
    "# Launch and test "
   ]
  },
  {
   "cell_type": "code",
   "execution_count": 20,
   "id": "e08e32d3",
   "metadata": {},
   "outputs": [
    {
     "name": "stdout",
     "output_type": "stream",
     "text": [
      "Resulted Esperance :  2.921\n"
     ]
    }
   ],
   "source": [
    "numberAttWhiteDice = 8\n",
    "numberAttBlackDice = 0\n",
    "numberAttRedDice = 0\n",
    "AdreConvert = False\n",
    "critiqueNumber = 2\n",
    "\n",
    "resultedEsperance = throwDice(numberAttWhiteDice,numberAttBlackDice,numberAttRedDice,Adre=AdreConvert,critiqueNumber = critiqueNumber)  \n",
    "\n",
    "print(\"Resulted Esperance : \", resultedEsperance)\n"
   ]
  },
  {
   "cell_type": "code",
   "execution_count": null,
   "id": "08567dcc",
   "metadata": {},
   "outputs": [],
   "source": []
  }
 ],
 "metadata": {
  "kernelspec": {
   "display_name": "Python 3 (ipykernel)",
   "language": "python",
   "name": "python3"
  },
  "language_info": {
   "codemirror_mode": {
    "name": "ipython",
    "version": 3
   },
   "file_extension": ".py",
   "mimetype": "text/x-python",
   "name": "python",
   "nbconvert_exporter": "python",
   "pygments_lexer": "ipython3",
   "version": "3.7.9"
  }
 },
 "nbformat": 4,
 "nbformat_minor": 5
}
